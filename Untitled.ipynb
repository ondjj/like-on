{
 "cells": [
  {
   "cell_type": "code",
   "execution_count": null,
   "id": "ff51954c-0d5e-4c83-9589-ae61492b798a",
   "metadata": {},
   "outputs": [
    {
     "name": "stdout",
     "output_type": "stream",
     "text": [
      "번역이 실행되었습니다.\n"
     ]
    }
   ],
   "source": [
    "from tkinter import *\n",
    "from googletrans import Translator\n",
    "\n",
    "# 생성\n",
    "root = Tk()\n",
    "\n",
    "# 기본 설정 \n",
    "root.title('ond_ts')\n",
    "root.geometry(\"300x200+1200+50\")\n",
    "root.resizable(False,False)\n",
    "\n",
    "\n",
    "# 버튼\n",
    "def btncmd():\n",
    "    print(\"번역이 실행되었습니다.\")\n",
    "    \n",
    "\n",
    "    translator = Translator()\n",
    "\n",
    "    sentence = input(\" 문장을 입력하세요 : \") # 감지 할 언어\n",
    "    dest = input(\" 언어를 입력하세요 :\")\n",
    "    #print(detected.lang)\n",
    "\n",
    "    result = translator.translate(sentence,dest)\n",
    "    detected = translator.detect(sentence) # 감지 \n",
    "\n",
    "    print(\"===========출력 결과 ============\")\n",
    "    print(detected.lang,\":\",sentence)  # detected.lang 번역을 원하는 문장이 어떤 의미인지, \":\" ,번역하고자하는 문장\n",
    "    print(result.dest,\":\", result.text) # 결과\n",
    "    print(\"=================================\")\n",
    "    \n",
    "    \n",
    "def btncmd_1():\n",
    "    print(\"목록이 활성화되었습니다.\")\n",
    "\n",
    "btn1 = Button(root, text = \" 번역 \", command = btncmd)\n",
    "btn1.pack()\n",
    "\n",
    "btn2 = Button(root, padx=10, pady=10, text=\"목록\", command = btncmd_1)\n",
    "btn2.pack()\n",
    "\n",
    "root.mainloop()"
   ]
  },
  {
   "cell_type": "code",
   "execution_count": null,
   "id": "e1424b55-fe1c-48d9-95f8-84e69d02c579",
   "metadata": {},
   "outputs": [],
   "source": []
  },
  {
   "cell_type": "code",
   "execution_count": null,
   "id": "6deae990-a165-4ffa-91f7-2f0d8372d339",
   "metadata": {},
   "outputs": [],
   "source": []
  },
  {
   "cell_type": "code",
   "execution_count": null,
   "id": "a7718a4b-0e8c-44d6-986c-3316d127e226",
   "metadata": {},
   "outputs": [],
   "source": [
    "from googletrans import Translator\n",
    "\n",
    "translator = Translator()\n",
    "\n",
    "sentence = input(\" 문장을 입력하세요 : \") # 감지 할 언어\n",
    "dest = input(\" 언어를 입력하세요 :\")\n",
    "#print(detected.lang)\n",
    "\n",
    "result = translator.translate(sentence,dest)\n",
    "detected = translator.detect(sentence) # 감지 \n",
    "\n",
    "print(\"===========출력 결과 ============\")\n",
    "print(detected.lang,\":\",sentence)  # detected.lang 번역을 원하는 문장이 어떤 의미인지, \":\" ,번역하고자하는 문장\n",
    "print(result.dest,\":\", result.text) # 결과\n",
    "print(\"=================================\")"
   ]
  }
 ],
 "metadata": {
  "kernelspec": {
   "display_name": "py3.8",
   "language": "python",
   "name": "py3.8"
  },
  "language_info": {
   "codemirror_mode": {
    "name": "ipython",
    "version": 3
   },
   "file_extension": ".py",
   "mimetype": "text/x-python",
   "name": "python",
   "nbconvert_exporter": "python",
   "pygments_lexer": "ipython3",
   "version": "3.8.8"
  }
 },
 "nbformat": 4,
 "nbformat_minor": 5
}
