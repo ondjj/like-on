{
 "cells": [
  {
   "cell_type": "markdown",
   "id": "f79b4f78-87bc-4f60-acff-fa866c2d0cf7",
   "metadata": {},
   "source": [
    "# 미리보기"
   ]
  },
  {
   "cell_type": "code",
   "execution_count": 1,
   "id": "e1445d46-aecc-4b3e-b58c-587cac64606b",
   "metadata": {
    "tags": []
   },
   "outputs": [
    {
     "name": "stdin",
     "output_type": "stream",
     "text": [
      "번역을 원하는 문장을 입력하세요 :  안녕\n"
     ]
    },
    {
     "name": "stdout",
     "output_type": "stream",
     "text": [
      "\n",
      "============= 번역 결과 ============\n",
      "\n",
      "ko : 안녕\n",
      "en : Hi\n",
      "\n",
      "====================================\n",
      "\n"
     ]
    }
   ],
   "source": [
    "from googletrans import Translator\n",
    "\n",
    "translator = Translator()\n",
    "# sentence = \"좋은 아침이에요\"\n",
    "sentence = input(\"번역을 원하는 문장을 입력하세요 : \")\n",
    "result = translator.translate(sentence, dest=\"en\")\n",
    "detect = translator.detect(sentence)\n",
    "print(\"\\n============= 번역 결과 ============\\n\")\n",
    "print(detect.lang,\":\", result.origin)\n",
    "print(result.dest,\":\", result.text)\n",
    "print(\"\\n====================================\\n\")"
   ]
  },
  {
   "cell_type": "markdown",
   "id": "ceafd95b-0237-4873-bb2e-350ce859a9e2",
   "metadata": {},
   "source": [
    "## googletrans\n",
    "\n",
    "### 언어 감지 및 번역 기능을 가진 모듈 / 라이브러리이다.\n",
    "\n",
    "### 언어 감지, 번역 => 입력된 글자의 뜻을 파악해서 같은 의미를 가진 다른 특정 언어로 바꿔준다.\n",
    "\n",
    "### pip install googletrans"
   ]
  },
  {
   "cell_type": "markdown",
   "id": "4fdf130f-fd33-451f-b278-4a501626977d",
   "metadata": {
    "tags": []
   },
   "source": [
    "# 언어 감지 Translator()\n",
    "\n",
    "* 번역기를 만든다\n",
    "* 언어 감지를 원하는 문장을 설정한다\n",
    "* 언어를 감지한다\n",
    "\n",
    "# 번역 translate( text, dest, src ) 문장, 언어, text 재료(옵션)\n",
    "\n",
    "* 번역기를 만든다\n",
    "* 번역을 원하는 문장 설정\n",
    "* 번역을 원하는 언어 설정\n",
    "* 번역\n"
   ]
  },
  {
   "cell_type": "code",
   "execution_count": 1,
   "id": "4697615e-9ab8-454f-ba52-24d9968eb95d",
   "metadata": {
    "tags": []
   },
   "outputs": [
    {
     "name": "stdin",
     "output_type": "stream",
     "text": [
      " 문장을 입력하세요 :  안녕\n",
      " 언어를 입력하세요 : en\n"
     ]
    },
    {
     "name": "stdout",
     "output_type": "stream",
     "text": [
      "===========출력 결과 ============\n",
      "ko : 안녕\n",
      "en : Hi\n",
      "=================================\n"
     ]
    }
   ],
   "source": [
    "from googletrans import Translator\n",
    "\n",
    "translator = Translator()\n",
    "\n",
    "sentence = input(\" 문장을 입력하세요 : \") # 감지 할 언어\n",
    "dest = input(\" 언어를 입력하세요 :\")\n",
    "#print(detected.lang)\n",
    "\n",
    "result = translator.translate(sentence,dest)\n",
    "detected = translator.detect(sentence) # 감지 \n",
    "\n",
    "print(\"===========출력 결과 ============\")\n",
    "print(detected.lang,\":\",sentence)  # detected.lang 번역을 원하는 문장이 어떤 의미인지, \":\" ,번역하고자하는 문장\n",
    "print(result.dest,\":\", result.text) # 결과\n",
    "print(\"=================================\")"
   ]
  },
  {
   "cell_type": "code",
   "execution_count": null,
   "id": "ecb08c12-3aa6-4438-9268-54e6ce453406",
   "metadata": {},
   "outputs": [],
   "source": []
  }
 ],
 "metadata": {
  "kernelspec": {
   "display_name": "py3.8",
   "language": "python",
   "name": "py3.8"
  },
  "language_info": {
   "codemirror_mode": {
    "name": "ipython",
    "version": 3
   },
   "file_extension": ".py",
   "mimetype": "text/x-python",
   "name": "python",
   "nbconvert_exporter": "python",
   "pygments_lexer": "ipython3",
   "version": "3.8.8"
  }
 },
 "nbformat": 4,
 "nbformat_minor": 5
}
